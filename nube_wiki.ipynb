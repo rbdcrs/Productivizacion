{
 "cells": [
  {
   "cell_type": "code",
   "execution_count": null,
   "id": "d8fe2a17-6356-42b9-a7a3-711cc09383d4",
   "metadata": {
    "editable": true,
    "slideshow": {
     "slide_type": ""
    },
    "tags": []
   },
   "outputs": [],
   "source": [
    "import wikipedia\n",
    "import re\n",
    "from stop_words import get_stop_words"
   ]
  },
  {
   "cell_type": "code",
   "execution_count": null,
   "id": "cb1067d7-279f-42e6-9529-a572ff71ffee",
   "metadata": {},
   "outputs": [],
   "source": [
    "stop_words = get_stop_words('es')\n",
    "len(stop_words)"
   ]
  },
  {
   "cell_type": "code",
   "execution_count": null,
   "id": "0fa1436f-080b-4113-9621-ceec6c2275d3",
   "metadata": {},
   "outputs": [],
   "source": [
    "print(wikipedia.languages())\n",
    "#fijamos el idioma a español\n",
    "wikipedia.set_lang(\"es\")"
   ]
  },
  {
   "cell_type": "code",
   "execution_count": null,
   "id": "ede2416c-ae5e-4600-b3ab-2a1f9b411128",
   "metadata": {},
   "outputs": [],
   "source": [
    "print(wikipedia.search(\"Python\"))\n",
    "print(wikipedia.search(\"Python\", results = 3))\n",
    "print(wikipedia.suggest(\"Madriz\"))"
   ]
  }
 ],
 "metadata": {
  "kernelspec": {
   "display_name": "nube_wiki",
   "language": "python",
   "name": "nube_wiki"
  },
  "language_info": {
   "codemirror_mode": {
    "name": "ipython",
    "version": 3
   },
   "file_extension": ".py",
   "mimetype": "text/x-python",
   "name": "python",
   "nbconvert_exporter": "python",
   "pygments_lexer": "ipython3",
   "version": "3.11.7"
  }
 },
 "nbformat": 4,
 "nbformat_minor": 5
}
