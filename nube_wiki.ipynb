{
 "cells": [
  {
   "cell_type": "code",
   "execution_count": null,
   "id": "d8fe2a17-6356-42b9-a7a3-711cc09383d4",
   "metadata": {
    "editable": true,
    "slideshow": {
     "slide_type": ""
    },
    "tags": []
   },
   "outputs": [],
   "source": [
    "import wikipedia\n",
    "import re\n",
    "from stop_words import get_stop_words"
   ]
  },
  {
   "cell_type": "code",
   "execution_count": null,
   "id": "cb1067d7-279f-42e6-9529-a572ff71ffee",
   "metadata": {},
   "outputs": [],
   "source": [
    "stop_words = get_stop_words('es')\n",
    "len(stop_words)"
   ]
  },
  {
   "cell_type": "code",
   "execution_count": null,
   "id": "0fa1436f-080b-4113-9621-ceec6c2275d3",
   "metadata": {},
   "outputs": [],
   "source": [
    "print(wikipedia.languages())\n",
    "#fijamos el idioma a español\n",
    "wikipedia.set_lang(\"es\")"
   ]
  },
  {
   "cell_type": "code",
   "execution_count": null,
   "id": "ede2416c-ae5e-4600-b3ab-2a1f9b411128",
   "metadata": {},
   "outputs": [],
   "source": [
    "print(wikipedia.search(\"Python\"))\n",
    "print(wikipedia.search(\"Python\", results = 3))\n",
    "print(wikipedia.suggest(\"Madriz\"))"
   ]
  },
  {
   "cell_type": "code",
   "execution_count": null,
   "id": "2d2973fd-4706-4c22-b9e6-c900cb9bd494",
   "metadata": {},
   "outputs": [],
   "source": [
    "# Que página queremos descargar\n",
    "wiki = wikipedia.page('Python')"
   ]
  },
  {
   "cell_type": "code",
   "execution_count": null,
   "id": "fd65a853-de77-4243-a6c7-88145e3a7fe1",
   "metadata": {},
   "outputs": [],
   "source": [
    "# Sacamos el texto de la página\n",
    "text = wiki.content"
   ]
  },
  {
   "cell_type": "code",
   "execution_count": null,
   "id": "5b7d1f26-e5ea-4bf8-ab70-b7a10f7619c9",
   "metadata": {},
   "outputs": [],
   "source": [
    "# Sacamos el texto de la página\n",
    "text = wiki.content"
   ]
  },
  {
   "cell_type": "code",
   "execution_count": null,
   "id": "40130515-cf82-44e0-9844-37349541e06b",
   "metadata": {},
   "outputs": [],
   "source": [
    "# Clean text\n",
    "text = re.sub(r'==.*?==+', '', text) # eliminamos los headers\n",
    "text = text.replace('\\n', '') # eliminamos los saltos de línea"
   ]
  },
  {
   "cell_type": "code",
   "execution_count": null,
   "id": "e0fdea0d-930c-4e32-9502-e9709b270bdf",
   "metadata": {},
   "outputs": [],
   "source": [
    "import matplotlib.pyplot as plt\n",
    "%matplotlib inline"
   ]
  },
  {
   "cell_type": "code",
   "execution_count": null,
   "id": "bc105d3b-d754-4e17-a3c9-0fa441642f17",
   "metadata": {},
   "outputs": [],
   "source": [
    "# Creamos una función para generar el gráfico\n",
    "def plot_cloud(wordcloud):\n",
    "    # fijamos el tamaño\n",
    "    plt.figure(figsize=(40, 30))\n",
    "    # plot de la imagen\n",
    "    plt.imshow(wordcloud)\n",
    "    # sin ejes\n",
    "    plt.axis(\"off\");"
   ]
  },
  {
   "cell_type": "code",
   "execution_count": null,
   "id": "14952ae3-9f63-4970-8953-acdd40491626",
   "metadata": {},
   "outputs": [],
   "source": [
    "# Importamos el paquete para hacer la nube de palabras\n",
    "from wordcloud import WordCloud"
   ]
  },
  {
   "cell_type": "code",
   "execution_count": null,
   "id": "c99074cc-146d-4f4f-ba09-17ca7f378725",
   "metadata": {},
   "outputs": [],
   "source": [
    "# Genaramos la nube\n",
    "wordcloud = WordCloud(width = 3000, height = 2000,\n",
    "random_state=1,\n",
    "background_color='white',colormap='viridis',\n",
    "collocations=False, stopwords = stop_words +\n",
    "[\"Python\", \"puede\", \"pueden\"]).generate(text)\n",
    "plot_cloud(wordcloud)"
   ]
  },
  {
   "cell_type": "code",
   "execution_count": null,
   "id": "caf2d9a8-8bc2-4911-9e30-b8f21ab005fd",
   "metadata": {},
   "outputs": [],
   "source": [
    "def crear_nube (x) :\n",
    "    wikipedia.set_lang(\"es\")\n",
    "    wiki = wikipedia.page(x)\n",
    "    text = wiki.content\n",
    "    text = re.sub(r'==.*?==+', '', text) # eliminamos los headers\n",
    "    text = text.replace('\\n', '') # eliminamos los saltos de línea\n",
    "    wordcloud = WordCloud(width = 3000, height = 2000, random_state=1,\n",
    "    background_color='white',colormap='viridis',\n",
    "    collocations=False, stopwords = stop_words + [x]).generate(text)\n",
    "    nube = plot_cloud(wordcloud)\n",
    "    return(nube)"
   ]
  },
  {
   "cell_type": "code",
   "execution_count": null,
   "id": "40be885d-b1b8-49c5-aeff-361aa63fa79e",
   "metadata": {},
   "outputs": [],
   "source": [
    "crear_nube(\"Aranjuez\")"
   ]
  },
  {
   "cell_type": "code",
   "execution_count": null,
   "id": "7dbcbf39-8f85-4e06-8015-302bf7a8626d",
   "metadata": {},
   "outputs": [],
   "source": [
    "crear_nube(\"Toledo\")"
   ]
  }
 ],
 "metadata": {
  "kernelspec": {
   "display_name": "nube_wiki",
   "language": "python",
   "name": "nube_wiki"
  },
  "language_info": {
   "codemirror_mode": {
    "name": "ipython",
    "version": 3
   },
   "file_extension": ".py",
   "mimetype": "text/x-python",
   "name": "python",
   "nbconvert_exporter": "python",
   "pygments_lexer": "ipython3",
   "version": "3.11.7"
  }
 },
 "nbformat": 4,
 "nbformat_minor": 5
}
