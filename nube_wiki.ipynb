{
 "cells": [
  {
   "cell_type": "code",
   "execution_count": 3,
   "id": "d8fe2a17-6356-42b9-a7a3-711cc09383d4",
   "metadata": {
    "editable": true,
    "slideshow": {
     "slide_type": ""
    },
    "tags": []
   },
   "outputs": [],
   "source": [
    "import wikipedia\n",
    "import re\n",
    "from stop_words import get_stop_words"
   ]
  }
 ],
 "metadata": {
  "kernelspec": {
   "display_name": "nube_wiki",
   "language": "python",
   "name": "nube_wiki"
  },
  "language_info": {
   "codemirror_mode": {
    "name": "ipython",
    "version": 3
   },
   "file_extension": ".py",
   "mimetype": "text/x-python",
   "name": "python",
   "nbconvert_exporter": "python",
   "pygments_lexer": "ipython3",
   "version": "3.11.7"
  }
 },
 "nbformat": 4,
 "nbformat_minor": 5
}
